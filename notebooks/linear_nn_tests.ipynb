{
 "cells": [
  {
   "cell_type": "code",
   "execution_count": 1,
   "metadata": {},
   "outputs": [
    {
     "name": "stdout",
     "output_type": "stream",
     "text": [
      "Setting small-caps\n"
     ]
    }
   ],
   "source": [
    "% matplotlib inline\n",
    "\n",
    "# Plotting Things\n",
    "import matplotlib\n",
    "import matplotlib.pyplot as plt\n",
    "from matplotlib.font_manager import FontProperties\n",
    "fontP = FontProperties()\n",
    "print('Setting small-caps')\n",
    "fontP.set_variant('small-caps')\n",
    "# matplotlib.rcParams['font.variant'] = 'small-caps'\n",
    "from matplotlib.ticker import FormatStrFormatter\n",
    "from matplotlib import scale as mscale\n",
    "from matplotlib import transforms as mtransforms\n",
    "import itertools as it\n",
    "\n",
    "\n",
    "MARKERS = ('+', 'o', 'v', '^')\n",
    "\n",
    "# Source: https://stackoverflow.com/questions/43463431/\n",
    "# custom-logarithmic-axis-scaling-in-matplotlib\n",
    "class CustomScale(mscale.ScaleBase):\n",
    "    name = 'custom'\n",
    "    def __init__(self, axis, **kwargs):\n",
    "        mscale.ScaleBase.__init__(self)\n",
    "        if 'thresh' in kwargs:\n",
    "            self.thresh = kwargs['thresh']\n",
    "        else:\n",
    "            self.thresh = 1.0\n",
    "\n",
    "    def get_transform(self):\n",
    "        return self.CustomTransform(self.thresh)\n",
    "\n",
    "    def set_default_locators_and_formatters(self, axis):\n",
    "        pass\n",
    "\n",
    "    class CustomTransform(mtransforms.Transform):\n",
    "        input_dims = 1\n",
    "        output_dims = 1\n",
    "        is_separable = True\n",
    "\n",
    "        def __init__(self, thresh):\n",
    "            mtransforms.Transform.__init__(self)\n",
    "            self.thresh = thresh\n",
    "\n",
    "        def transform_non_affine(self, a):\n",
    "            # if np.isnan(np.log(self.thresh - a)).any():\n",
    "            #     print('YYY', a, np.log(self.thresh - a))\n",
    "            return np.nan_to_num(-1.0 * np.log(self.thresh - a))\n",
    "\n",
    "        def inverted(self):\n",
    "            return CustomScale.InvertedCustomTransform(self.thresh)\n",
    "\n",
    "    class InvertedCustomTransform(mtransforms.Transform):\n",
    "        input_dims = 1\n",
    "        output_dims = 1\n",
    "        is_separable = True\n",
    "\n",
    "        def __init__(self, thresh):\n",
    "            mtransforms.Transform.__init__(self)\n",
    "            self.thresh = thresh\n",
    "\n",
    "        def transform_non_affine(self, a):\n",
    "            return np.nan_to_num(self.thresh - np.exp(-1.0 * a))\n",
    "\n",
    "        def inverted(self):\n",
    "            return CustomScale.CustomTransform(self.thresh)\n",
    "        \n",
    "mscale.register_scale(CustomScale)"
   ]
  },
  {
   "cell_type": "code",
   "execution_count": 2,
   "metadata": {},
   "outputs": [
    {
     "name": "stdout",
     "output_type": "stream",
     "text": [
      "X has shape: (2565, 128)\n",
      "y has shape: (2565, 1)\n"
     ]
    },
    {
     "data": {
      "text/plain": [
       "tensor([[1.0345]])"
      ]
     },
     "execution_count": 2,
     "metadata": {},
     "output_type": "execute_result"
    }
   ],
   "source": [
    "import torch\n",
    "import torch.nn as nn\n",
    "import numpy as np\n",
    "\n",
    "# Load Data\n",
    "data_path = '../data/processed/'\n",
    "X = np.load(data_path + 'X.npy')\n",
    "y = np.load(data_path + 'y.npy')\n",
    "print(\"X has shape: {}\\ny has shape: {}\".format(X.shape, y.shape))\n",
    "X_torch = torch.from_numpy(X).float()\n",
    "y_torch = torch.from_numpy(y).float()\n",
    "\n",
    "# Calculate global optimum a.k.a c from appendix A in the paper\n",
    "# P.S. @ in python 3.5+ means matrix multiplication\n",
    "m = len(y_torch)\n",
    "cross_cov = (1 / m) * y_torch.transpose(0,1) @ X_torch # (1, 128)\n",
    "y_cov = (1 / m) * y_torch.transpose(0,1) @ y_torch\n",
    "global_opt = -0.5 * (cross_cov @ cross_cov.transpose(0,1)) + 0.5 * y_cov \n",
    "global_opt "
   ]
  },
  {
   "cell_type": "code",
   "execution_count": 18,
   "metadata": {},
   "outputs": [
    {
     "name": "stdout",
     "output_type": "stream",
     "text": [
      "Training Converged in 3407 steps.\n"
     ]
    }
   ],
   "source": [
    "import torch\n",
    "import sys\n",
    "sys.path.append('../src/models/')\n",
    "from linear_nn import LinearNet, fro_loss, train\n",
    "import numpy as np\n",
    "\n",
    "# Set seed\n",
    "seed = 521\n",
    "# seed = 123\n",
    "torch.manual_seed(seed)\n",
    "# l = (torch.get_rng_state()) Uncomment this if you want dropout to be the same\n",
    "# torch.set_rng_state(l)\n",
    "\n",
    "# Set parameters of the network\n",
    "num_layers = 3\n",
    "hidden_widths = 32\n",
    "d_in = 128\n",
    "d_out = 1\n",
    "p = 0.80 # Dropout probability, p = 0 means no dropout\n",
    "balanced = False\n",
    "model = LinearNet(num_layers, hidden_widths, d_in, d_out, p)\n",
    "\n",
    "\n",
    "\n",
    "# Type of initialization\n",
    "std = 0.03\n",
    "if balanced:\n",
    "    init_W = np.random.normal(scale=std, size=[1, 128])\n",
    "    model.init_balanced(init_W, randomize=False)\n",
    "else:\n",
    "    model.init_independent(std)\n",
    "\n",
    "loss_fn = fro_loss()\n",
    "learning_rate = 1e-2\n",
    "train_iter, loss, delta_list, norm_list = train(model, loss_fn, X_torch, y_torch, learning_rate)\n",
    "print(\"Training Converged in {} steps.\".format(train_iter))"
   ]
  },
  {
   "cell_type": "code",
   "execution_count": 19,
   "metadata": {},
   "outputs": [
    {
     "data": {
      "image/png": "[encoded data removed]",
      "text/plain": [
       "<Figure size 432x288 with 1 Axes>"
      ]
     },
     "metadata": {
      "needs_background": "light"
     },
     "output_type": "display_data"
    }
   ],
   "source": [
    "deltas = [max(x) for x in delta_list]\n",
    "min_norms = [min(x)**2 for x in norm_list]\n",
    "num_iters = range(len(deltas))\n",
    "\n",
    "marker = it.cycle(MARKERS)\n",
    "plt.clf()\n",
    "plt.plot(num_iters, min_norms, linestyle='dashed')\n",
    "plt.plot(num_iters, deltas, markersize=10)\n",
    "plt.xlabel('Iters', fontsize=22)\n",
    "plt.yscale('log')\n",
    "plt.legend(['Minimum layer norm', 'Balancedness value'], fontsize=15)\n",
    "plt.tick_params(axis='y', labelsize=16)\n",
    "plt.tick_params(axis='x', labelsize=16)\n",
    "plt.tight_layout()"
   ]
  },
  {
   "cell_type": "code",
   "execution_count": null,
   "metadata": {},
   "outputs": [],
   "source": []
  },
  {
   "cell_type": "code",
   "execution_count": 5,
   "metadata": {},
   "outputs": [],
   "source": [
    "# import matplotlib.pyplot as plt\n",
    "\n",
    "# iters = range(len(deltas))\n",
    "# plt.plot(iters, deltas)\n",
    "# plt.xlabel('Iteration Number')\n",
    "# plt.ylabel('Delta Value')\n",
    "# # plt.ylabel('Min L Norm')\n",
    "# plt.yscale('log')\n",
    "# plt.title(\"sigma = {}\".format(std))\n",
    "# print(deltas)"
   ]
  },
  {
   "cell_type": "code",
   "execution_count": 6,
   "metadata": {},
   "outputs": [],
   "source": [
    "# import matplotlib.pyplot as plt\n",
    "\n",
    "# iters = range(len(deltas))[100:]\n",
    "# plt.plot(iters[20:], deltas[20:])\n",
    "# plt.xlabel('Iteration Number')\n",
    "# plt.ylabel('Delta Value')\n",
    "# # plt.ylabel('Min L Norm')\n",
    "# plt.yscale('log')\n",
    "# plt.title(\"sigma = {}\".format(std))"
   ]
  },
  {
   "cell_type": "code",
   "execution_count": 7,
   "metadata": {},
   "outputs": [],
   "source": [
    "# import sys\n",
    "# sys.path.append('../src/models/')\n",
    "# from linear_nn import three_layer_nn, fro_loss, train, eight_layer_nn\n",
    "\n",
    "# # Set seed\n",
    "# seed = 521\n",
    "# # seed = 123\n",
    "# torch.manual_seed(seed)\n",
    "\n",
    "# # Initalize Constants\n",
    "# learning_rates = [1e-4, 1e-3, 1e-2, 1e-1, 1e0]\n",
    "# eps = 1e-5 # Even though they say 1e-5 in the paper, this one works \n",
    "\n",
    "\n",
    "# std = 1e-2\n",
    "# learning_rate = 0.5\n",
    "# model = three_layer_nn('balance', std) # Bug with dropout, getting delta is going to be a little more subtle\n",
    "# loss_fn = fro_loss()\n",
    "# train_iter, loss, deltas, norms = train(model, loss_fn, X_torch, y_torch, learning_rate, eps)\n",
    "# print(train_iter)\n",
    "# delta_max, delta_min = max(deltas), min(deltas)\n",
    "# print(deltas)"
   ]
  },
  {
   "cell_type": "code",
   "execution_count": 8,
   "metadata": {},
   "outputs": [],
   "source": [
    "# Good result for min layer norms:\n",
    "# seed = 521, std = 1e-3"
   ]
  },
  {
   "cell_type": "code",
   "execution_count": 9,
   "metadata": {},
   "outputs": [],
   "source": [
    "# Results of experiments of the above cell, I found a better learning rate than that in the paper\n",
    "# For a lot of the stds\n",
    "\n",
    "################################\n",
    "# Three Layer\n",
    "################################\n",
    "# Normal\n",
    "################################\n",
    "# std = 1e-4, lr = 0.5, num_iters = 3734\n",
    "# std = 1e-3, lr = 0.5, num_iters = 381\n",
    "# std = 1e-2, lr = 0.5, num_iters = 44\n",
    "# std = 1e-1, lr = 0.5, num_iters = 64\n",
    "# std = 5e-1, lr = 0.5, num_iters = 17\n",
    "#################################\n",
    "\n",
    "################################\n",
    "# Balanced\n",
    "################################\n",
    "# std = 1e-4, lr = 0.5, num_iters = 34\n",
    "# std = 1e-3, lr = 0.5, num_iters = 19, lr = 1e-2, num_iters = 682 \n",
    "# std = 1e-2, lr = 0.5, num_iters = 13\n",
    "# std = 1e-1, lr = 0.5, num_iters = 12\n",
    "# std = 1, lr = 1e-2, num_iters = 596\n",
    "#################################\n",
    "\n",
    "################################\n",
    "# Eight Layer\n",
    "################################\n",
    "# Normal\n",
    "################################\n",
    "# std = 1e-4, DNC (Did Not Converge)\n",
    "# std = 1e-3, DNC\n",
    "# std = 5e-2, lr = 1e-1, num_iters = 2450\n",
    "# std = 1e-1, lr = 1e-2, num_iters = 1265\n",
    "# std = 5e-1, DNC\n",
    "#################################\n",
    "\n",
    "################################\n",
    "# Balanced\n",
    "################################\n",
    "# std = 1e-4, lr = 1e-2, num_iters = 2349\n",
    "# std = 1e-3, lr = 1e-2, num_iters = 681\n",
    "# std = 1e-2, lr = 1e-2, num_iters = 504\n",
    "# std = 1e-1, lr = 1e-2, num_iters = 692\n",
    "# std = 1, lr = 5e-3, num_iters = 1161\n",
    "#################################"
   ]
  }
 ],
 "metadata": {
  "kernelspec": {
   "display_name": "Python 3",
   "language": "python",
   "name": "python3"
  },
  "language_info": {
   "codemirror_mode": {
    "name": "ipython",
    "version": 3
   },
   "file_extension": ".py",
   "mimetype": "text/x-python",
   "name": "python",
   "nbconvert_exporter": "python",
   "pygments_lexer": "ipython3",
   "version": "3.7.0"
  }
 },
 "nbformat": 4,
 "nbformat_minor": 2
}
