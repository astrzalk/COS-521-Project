{
 "cells": [
  {
   "cell_type": "code",
   "execution_count": 1,
   "metadata": {},
   "outputs": [
    {
     "name": "stdout",
     "output_type": "stream",
     "text": [
      "X has shape: (2565, 128)\n",
      "y has shape: (2565, 1)\n"
     ]
    },
    {
     "data": {
      "text/plain": [
       "tensor([[1.9375e-11]])"
      ]
     },
     "execution_count": 1,
     "metadata": {},
     "output_type": "execute_result"
    }
   ],
   "source": [
    "% matplotlib inline\n",
    "\n",
    "import torch\n",
    "import torch.nn as nn\n",
    "import numpy as np\n",
    "\n",
    "# Load Data\n",
    "data_path = '../data/processed/'\n",
    "X = np.load(data_path + 'X.npy')\n",
    "y = np.load(data_path + 'y.npy')\n",
    "print(\"X has shape: {}\\ny has shape: {}\".format(X.shape, y.shape))\n",
    "X_torch = torch.from_numpy(X).float()\n",
    "y_torch = torch.from_numpy(y).float()\n",
    "\n",
    "# Calculate global optimum a.k.a c from appendix A in the paper\n",
    "# P.S. @ in python 3.5+ means matrix multiplication\n",
    "cross_cov = (1 / len(y_torch)) * y_torch.transpose(0,1) @ X_torch # (1, 128)\n",
    "y_cov = (1 / len(y_torch)) * y_torch.transpose(0,1) @ y_torch\n",
    "global_opt = -0.5 * (cross_cov @ cross_cov.transpose(0,1)) + 0.5 * y_cov \n",
    "global_opt "
   ]
  },
  {
   "cell_type": "code",
   "execution_count": 4,
   "metadata": {},
   "outputs": [
    {
     "name": "stdout",
     "output_type": "stream",
     "text": [
      "(Learning Rate, Total Iterations, Loss) = (0.0001, 100001, 0.00016575879999436438).\n",
      "(Learning Rate, Total Iterations, Loss) = (0.001, 18195, 9.997145753004588e-06).\n",
      "(Learning Rate, Total Iterations, Loss) = (0.01, 1821, 9.968571248464286e-06).\n",
      "(Learning Rate, Total Iterations, Loss) = (0.1, 183, 9.948667866410688e-06).\n",
      "(Learning Rate, Total Iterations, Loss) = (1.0, 32, 9.365488949697465e-06).\n"
     ]
    }
   ],
   "source": [
    "import sys\n",
    "sys.path.append('../src/models/')\n",
    "from linear_nn import three_layer_nn, fro_loss, train\n",
    "\n",
    "# Set seed\n",
    "seed = 521\n",
    "torch.manual_seed(seed)\n",
    "\n",
    "# Initalize Constants\n",
    "learning_rates = [1e-4, 1e-3, 1e-2, 1e-1, 1e0]\n",
    "eps = 1e-5\n",
    "\n",
    "\n",
    "for learning_rate in learning_rates: # Find optimal learning_rate\n",
    "    # Select Model\n",
    "    std = 1e-1\n",
    "    model = three_layer_nn('normal', std, False, p=0.1)\n",
    "    loss_fn = fro_loss()\n",
    "    \n",
    "    # Train using vanilla gradient descent outputs the number of iterations \n",
    "    # to reach eps of the global opt with value of loss\n",
    "    num_iter = np.inf\n",
    "    train_iter, loss = train(model, loss_fn, X_torch, y_torch, learning_rate, eps, global_opt)\n",
    "    if num_iter > train_iter: # Find min train_iter\n",
    "        num_iter = train_iter\n",
    "    print(\"(Learning Rate, Total Iterations, Loss) = ({}, {}, {}).\".format(learning_rate, train_iter, loss))"
   ]
  },
  {
   "cell_type": "code",
   "execution_count": null,
   "metadata": {},
   "outputs": [],
   "source": [
    "# learning_rate = 1e-1\n",
    "# eps = 1e-5\n",
    "# loss = np.inf\n",
    "# t = 0\n",
    "# while torch.abs(global_opt - loss) > eps:\n",
    "#     W = model() # W_N * W_{N - 1} * ... * W_1\n",
    "\n",
    "#     # Compute and print loss. We pass Tensors containing the predicted and true\n",
    "#     # values of y, and the loss function returns a Tensor containing the\n",
    "#     # loss.\n",
    "#     loss = loss_fn(W, X_torch, y_torch)\n",
    "#     print(t, loss.item())\n",
    "\n",
    "#     # Zero the gradients before running the backward pass.\n",
    "#     # In pytorch, gradients are accumulated with .backward(), hence,\n",
    "#     # we need to zero them out each round\n",
    "#     model.zero_grad()\n",
    "\n",
    "#     # Backward pass: compute gradient of the loss with respect to all the learnable\n",
    "#     # parameters of the model. Internally, the parameters of each Module are stored\n",
    "#     # in Tensors with requires_grad=True, so this call will compute gradients for\n",
    "#     # all learnable parameters in the model.\n",
    "#     loss.backward()\n",
    "    \n",
    "\n",
    "#     # Update the weights using gradient descent. Each parameter is a Tensor, so\n",
    "#     # we can access its gradients like we did before.\n",
    "#     with torch.no_grad():\n",
    "#         for param in model.parameters():\n",
    "#             if param.grad is None:\n",
    "#                 continue\n",
    "#             param.data -= learning_rate * param.grad\n",
    "#     t+=1"
   ]
  },
  {
   "cell_type": "code",
   "execution_count": null,
   "metadata": {},
   "outputs": [],
   "source": []
  }
 ],
 "metadata": {
  "kernelspec": {
   "display_name": "Python 3",
   "language": "python",
   "name": "python3"
  },
  "language_info": {
   "codemirror_mode": {
    "name": "ipython",
    "version": 3
   },
   "file_extension": ".py",
   "mimetype": "text/x-python",
   "name": "python",
   "nbconvert_exporter": "python",
   "pygments_lexer": "ipython3",
   "version": "3.7.0"
  }
 },
 "nbformat": 4,
 "nbformat_minor": 2
}
