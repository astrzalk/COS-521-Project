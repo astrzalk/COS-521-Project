{
 "cells": [
  {
   "cell_type": "code",
   "execution_count": 1,
   "metadata": {},
   "outputs": [],
   "source": [
    "import torch\n",
    "from torch.autograd import Variable\n",
    "import torch.nn as nn\n",
    "import torch.nn.functional as F\n",
    "\n",
    "# Their paper used a 3 layer neural network (2 hidden layers) each\n",
    "# with dimension 32 each\n",
    "D_in = 128\n",
    "H = 32\n",
    "D_out = 1\n",
    "\n",
    "# Define Linear NN's\n",
    "# Model 1 is a 3 layer NN\n",
    "model1 = nn.Sequential(\n",
    "        # nn.Dropout(p=0.2), # p = probability of dropping\n",
    "        nn.Linear(D_in, H), # Layer 1 Weights\n",
    "        # nn.Dropout(p=0.2), # p = probability of dropping\n",
    "        nn.Linear(H, H), # Layer 2 Weights\n",
    "        # nn.Dropout(p=0.2), # p = probability of dropping\n",
    "        nn.Linear(H, D_out)  # Layer 3 Weights\n",
    "      )\n",
    "\n",
    "# Model 2 is a 8 layer NN\n",
    "model2 = nn.Sequential(\n",
    "        # nn.Dropout(p=0.2), # p = probability of dropping\n",
    "        nn.Linear(D_in, H), # Layer 1 Weights\n",
    "        # nn.Dropout(p=0.2), \n",
    "        nn.Linear(H, H), # Layer 2 Weights\n",
    "        # nn.Dropout(p=0.2),\n",
    "        nn.Linear(H, H), # Layer 3 Weights\n",
    "        # nn.Dropout(p=0.2),\n",
    "        nn.Linear(H, H), # Layer 4 Weights\n",
    "        # nn.Dropout(p=0.2),\n",
    "        nn.Linear(H, H), # Layer 5 Weights\n",
    "        # nn.Dropout(p=0.2),\n",
    "        nn.Linear(H, H), # Layer 6 Weights\n",
    "        # nn.Dropout(p=0.2),\n",
    "        nn.Linear(H, H), # Layer 7 Weights\n",
    "        # nn.Dropout(p=0.2),\n",
    "        nn.Linear(H, D_out)  # Layer 8 Weights\n",
    "      )"
   ]
  },
  {
   "cell_type": "code",
   "execution_count": 2,
   "metadata": {},
   "outputs": [
    {
     "name": "stdout",
     "output_type": "stream",
     "text": [
      "X has shape: (2565, 128)\n",
      "y has shape: (2565, 1).\n"
     ]
    }
   ],
   "source": [
    "import numpy as np\n",
    "# Load Data\n",
    "data_path = '../data/processed/'\n",
    "X = np.load(data_path + 'X.npy')\n",
    "y = np.load(data_path + 'y.npy')\n",
    "print(\"X has shape: {}\\ny has shape: {}.\".format(X.shape, y.shape))"
   ]
  },
  {
   "cell_type": "code",
   "execution_count": 3,
   "metadata": {},
   "outputs": [],
   "source": [
    "import sys\n",
    "sys.path.append('../src/models/')\n",
    "from linear_nn import three_layer_nn, fro_loss\n",
    "\n",
    "model = three_layer_nn()"
   ]
  },
  {
   "cell_type": "code",
   "execution_count": 4,
   "metadata": {},
   "outputs": [
    {
     "name": "stdout",
     "output_type": "stream",
     "text": [
      "torch.Size([32, 128])\n",
      "torch.Size([32, 32])\n",
      "torch.Size([1, 32])\n",
      "torch.Size([1, 128])\n"
     ]
    }
   ],
   "source": [
    "X_torch = torch.from_numpy(X).float()\n",
    "y_torch = torch.from_numpy(y).float()\n",
    "print(model.layer_1.weight.shape)\n",
    "print(model.layer_2.weight.shape)\n",
    "print(model.layer_3.weight.shape)\n",
    "# output = model.forward()\n",
    "# output\n",
    "print((y_torch.transpose(0,1) @ X_torch).shape)"
   ]
  },
  {
   "cell_type": "code",
   "execution_count": 5,
   "metadata": {},
   "outputs": [],
   "source": [
    "W_1 = model.layer_1.weight\n",
    "W_2 = model.layer_2.weight\n",
    "W_3 = model.layer_3.weight\n",
    "W = W_3 @ W_2 @ W_1"
   ]
  },
  {
   "cell_type": "code",
   "execution_count": 6,
   "metadata": {},
   "outputs": [
    {
     "data": {
      "text/plain": [
       "tensor(0.0173, grad_fn=<MulBackward>)"
      ]
     },
     "execution_count": 6,
     "metadata": {},
     "output_type": "execute_result"
    }
   ],
   "source": [
    "loss = fro_loss()\n",
    "loss(W, X_torch, y_torch)"
   ]
  },
  {
   "cell_type": "code",
   "execution_count": null,
   "metadata": {},
   "outputs": [],
   "source": []
  }
 ],
 "metadata": {
  "kernelspec": {
   "display_name": "Python 3",
   "language": "python",
   "name": "python3"
  },
  "language_info": {
   "codemirror_mode": {
    "name": "ipython",
    "version": 3
   },
   "file_extension": ".py",
   "mimetype": "text/x-python",
   "name": "python",
   "nbconvert_exporter": "python",
   "pygments_lexer": "ipython3",
   "version": "3.7.0"
  }
 },
 "nbformat": 4,
 "nbformat_minor": 2
}
