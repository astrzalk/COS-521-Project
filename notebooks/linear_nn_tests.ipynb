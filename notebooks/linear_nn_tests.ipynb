{
 "cells": [
  {
   "cell_type": "code",
   "execution_count": 1,
   "metadata": {},
   "outputs": [
    {
     "name": "stdout",
     "output_type": "stream",
     "text": [
      "X has shape: (2565, 128)\n",
      "y has shape: (2565, 1)\n"
     ]
    },
    {
     "data": {
      "text/plain": [
       "tensor([[1.0345]])"
      ]
     },
     "execution_count": 1,
     "metadata": {},
     "output_type": "execute_result"
    }
   ],
   "source": [
    "% matplotlib inline\n",
    "\n",
    "import torch\n",
    "import torch.nn as nn\n",
    "import numpy as np\n",
    "\n",
    "# Load Data\n",
    "data_path = '../data/processed/'\n",
    "X = np.load(data_path + 'X.npy')\n",
    "y = np.load(data_path + 'y.npy')\n",
    "print(\"X has shape: {}\\ny has shape: {}\".format(X.shape, y.shape))\n",
    "X_torch = torch.from_numpy(X).float()\n",
    "y_torch = torch.from_numpy(y).float()\n",
    "\n",
    "# Calculate global optimum a.k.a c from appendix A in the paper\n",
    "# P.S. @ in python 3.5+ means matrix multiplication\n",
    "m = len(y_torch)\n",
    "cross_cov = (1 / m) * y_torch.transpose(0,1) @ X_torch # (1, 128)\n",
    "y_cov = (1 / m) * y_torch.transpose(0,1) @ y_torch\n",
    "global_opt = -0.5 * (cross_cov @ cross_cov.transpose(0,1)) + 0.5 * y_cov \n",
    "global_opt "
   ]
  },
  {
   "cell_type": "code",
   "execution_count": 10,
   "metadata": {},
   "outputs": [
    {
     "ename": "AttributeError",
     "evalue": "'Dropout' object has no attribute 'weight'",
     "output_type": "error",
     "traceback": [
      "\u001b[0;31m---------------------------------------------------------------------------\u001b[0m",
      "\u001b[0;31mAttributeError\u001b[0m                            Traceback (most recent call last)",
      "\u001b[0;32m<ipython-input-10-7c9375e7a0dc>\u001b[0m in \u001b[0;36m<module>\u001b[0;34m()\u001b[0m\n\u001b[1;32m     17\u001b[0m \u001b[0mmodel\u001b[0m \u001b[0;34m=\u001b[0m \u001b[0mthree_layer_nn\u001b[0m\u001b[0;34m(\u001b[0m\u001b[0;34m'balanced'\u001b[0m\u001b[0;34m,\u001b[0m \u001b[0mstd\u001b[0m\u001b[0;34m,\u001b[0m \u001b[0;32mTrue\u001b[0m\u001b[0;34m,\u001b[0m \u001b[0;36m0.25\u001b[0m\u001b[0;34m)\u001b[0m\u001b[0;34m\u001b[0m\u001b[0m\n\u001b[1;32m     18\u001b[0m \u001b[0mloss_fn\u001b[0m \u001b[0;34m=\u001b[0m \u001b[0mfro_loss\u001b[0m\u001b[0;34m(\u001b[0m\u001b[0;34m)\u001b[0m\u001b[0;34m\u001b[0m\u001b[0m\n\u001b[0;32m---> 19\u001b[0;31m \u001b[0mtrain_iter\u001b[0m\u001b[0;34m,\u001b[0m \u001b[0mloss\u001b[0m\u001b[0;34m,\u001b[0m \u001b[0mdeltas\u001b[0m\u001b[0;34m,\u001b[0m \u001b[0mnorms\u001b[0m \u001b[0;34m=\u001b[0m \u001b[0mtrain\u001b[0m\u001b[0;34m(\u001b[0m\u001b[0mmodel\u001b[0m\u001b[0;34m,\u001b[0m \u001b[0mloss_fn\u001b[0m\u001b[0;34m,\u001b[0m \u001b[0mX_torch\u001b[0m\u001b[0;34m,\u001b[0m \u001b[0my_torch\u001b[0m\u001b[0;34m,\u001b[0m \u001b[0mlearning_rate\u001b[0m\u001b[0;34m,\u001b[0m \u001b[0meps\u001b[0m\u001b[0;34m)\u001b[0m\u001b[0;34m\u001b[0m\u001b[0m\n\u001b[0m\u001b[1;32m     20\u001b[0m \u001b[0mprint\u001b[0m\u001b[0;34m(\u001b[0m\u001b[0mtrain_iter\u001b[0m\u001b[0;34m)\u001b[0m\u001b[0;34m\u001b[0m\u001b[0m\n\u001b[1;32m     21\u001b[0m \u001b[0mdelta_max\u001b[0m\u001b[0;34m,\u001b[0m \u001b[0mdelta_min\u001b[0m \u001b[0;34m=\u001b[0m \u001b[0mmax\u001b[0m\u001b[0;34m(\u001b[0m\u001b[0mdeltas\u001b[0m\u001b[0;34m)\u001b[0m\u001b[0;34m,\u001b[0m \u001b[0mmin\u001b[0m\u001b[0;34m(\u001b[0m\u001b[0mdeltas\u001b[0m\u001b[0;34m)\u001b[0m\u001b[0;34m\u001b[0m\u001b[0m\n",
      "\u001b[0;32m~/Desktop/COS521/Project/COS-521-Project/src/models/linear_nn.py\u001b[0m in \u001b[0;36mtrain\u001b[0;34m(model, loss_fn, X, y, learning_rate, eps, verbose)\u001b[0m\n\u001b[1;32m    218\u001b[0m     \u001b[0;32mwhile\u001b[0m \u001b[0mloss\u001b[0m \u001b[0;34m>\u001b[0m \u001b[0meps\u001b[0m\u001b[0;34m:\u001b[0m\u001b[0;34m\u001b[0m\u001b[0m\n\u001b[1;32m    219\u001b[0m         \u001b[0;31m# Get Balancedness value by iterating through the weights\u001b[0m\u001b[0;34m\u001b[0m\u001b[0;34m\u001b[0m\u001b[0m\n\u001b[0;32m--> 220\u001b[0;31m         \u001b[0mweight_mats\u001b[0m \u001b[0;34m=\u001b[0m \u001b[0;34m[\u001b[0m\u001b[0mlayer\u001b[0m\u001b[0;34m.\u001b[0m\u001b[0mweight\u001b[0m\u001b[0;34m.\u001b[0m\u001b[0mdata\u001b[0m \u001b[0;32mfor\u001b[0m \u001b[0mlayer\u001b[0m \u001b[0;32min\u001b[0m \u001b[0mmodel\u001b[0m\u001b[0;34m.\u001b[0m\u001b[0mchildren\u001b[0m\u001b[0;34m(\u001b[0m\u001b[0;34m)\u001b[0m\u001b[0;34m]\u001b[0m\u001b[0;34m\u001b[0m\u001b[0m\n\u001b[0m\u001b[1;32m    221\u001b[0m         \u001b[0mdelta\u001b[0m \u001b[0;34m=\u001b[0m \u001b[0mget_delta\u001b[0m\u001b[0;34m(\u001b[0m\u001b[0mweight_mats\u001b[0m\u001b[0;34m)\u001b[0m\u001b[0;34m\u001b[0m\u001b[0m\n\u001b[1;32m    222\u001b[0m         \u001b[0mdeltas\u001b[0m\u001b[0;34m.\u001b[0m\u001b[0mappend\u001b[0m\u001b[0;34m(\u001b[0m\u001b[0mdelta\u001b[0m\u001b[0;34m)\u001b[0m\u001b[0;34m\u001b[0m\u001b[0m\n",
      "\u001b[0;32m~/Desktop/COS521/Project/COS-521-Project/src/models/linear_nn.py\u001b[0m in \u001b[0;36m<listcomp>\u001b[0;34m(.0)\u001b[0m\n\u001b[1;32m    218\u001b[0m     \u001b[0;32mwhile\u001b[0m \u001b[0mloss\u001b[0m \u001b[0;34m>\u001b[0m \u001b[0meps\u001b[0m\u001b[0;34m:\u001b[0m\u001b[0;34m\u001b[0m\u001b[0m\n\u001b[1;32m    219\u001b[0m         \u001b[0;31m# Get Balancedness value by iterating through the weights\u001b[0m\u001b[0;34m\u001b[0m\u001b[0;34m\u001b[0m\u001b[0m\n\u001b[0;32m--> 220\u001b[0;31m         \u001b[0mweight_mats\u001b[0m \u001b[0;34m=\u001b[0m \u001b[0;34m[\u001b[0m\u001b[0mlayer\u001b[0m\u001b[0;34m.\u001b[0m\u001b[0mweight\u001b[0m\u001b[0;34m.\u001b[0m\u001b[0mdata\u001b[0m \u001b[0;32mfor\u001b[0m \u001b[0mlayer\u001b[0m \u001b[0;32min\u001b[0m \u001b[0mmodel\u001b[0m\u001b[0;34m.\u001b[0m\u001b[0mchildren\u001b[0m\u001b[0;34m(\u001b[0m\u001b[0;34m)\u001b[0m\u001b[0;34m]\u001b[0m\u001b[0;34m\u001b[0m\u001b[0m\n\u001b[0m\u001b[1;32m    221\u001b[0m         \u001b[0mdelta\u001b[0m \u001b[0;34m=\u001b[0m \u001b[0mget_delta\u001b[0m\u001b[0;34m(\u001b[0m\u001b[0mweight_mats\u001b[0m\u001b[0;34m)\u001b[0m\u001b[0;34m\u001b[0m\u001b[0m\n\u001b[1;32m    222\u001b[0m         \u001b[0mdeltas\u001b[0m\u001b[0;34m.\u001b[0m\u001b[0mappend\u001b[0m\u001b[0;34m(\u001b[0m\u001b[0mdelta\u001b[0m\u001b[0;34m)\u001b[0m\u001b[0;34m\u001b[0m\u001b[0m\n",
      "\u001b[0;32m/usr/local/lib/python3.7/site-packages/torch/nn/modules/module.py\u001b[0m in \u001b[0;36m__getattr__\u001b[0;34m(self, name)\u001b[0m\n\u001b[1;32m    516\u001b[0m                 \u001b[0;32mreturn\u001b[0m \u001b[0mmodules\u001b[0m\u001b[0;34m[\u001b[0m\u001b[0mname\u001b[0m\u001b[0;34m]\u001b[0m\u001b[0;34m\u001b[0m\u001b[0m\n\u001b[1;32m    517\u001b[0m         raise AttributeError(\"'{}' object has no attribute '{}'\".format(\n\u001b[0;32m--> 518\u001b[0;31m             type(self).__name__, name))\n\u001b[0m\u001b[1;32m    519\u001b[0m \u001b[0;34m\u001b[0m\u001b[0m\n\u001b[1;32m    520\u001b[0m     \u001b[0;32mdef\u001b[0m \u001b[0m__setattr__\u001b[0m\u001b[0;34m(\u001b[0m\u001b[0mself\u001b[0m\u001b[0;34m,\u001b[0m \u001b[0mname\u001b[0m\u001b[0;34m,\u001b[0m \u001b[0mvalue\u001b[0m\u001b[0;34m)\u001b[0m\u001b[0;34m:\u001b[0m\u001b[0;34m\u001b[0m\u001b[0m\n",
      "\u001b[0;31mAttributeError\u001b[0m: 'Dropout' object has no attribute 'weight'"
     ]
    }
   ],
   "source": [
    "import sys\n",
    "sys.path.append('../src/models/')\n",
    "from linear_nn import three_layer_nn, fro_loss, train, eight_layer_nn\n",
    "\n",
    "# Set seed\n",
    "seed = 521\n",
    "# seed = 123\n",
    "torch.manual_seed(seed)\n",
    "\n",
    "# Initalize Constants\n",
    "learning_rates = [1e-4, 1e-3, 1e-2, 1e-1, 1e0]\n",
    "eps = 1e-5 # Even though they say 1e-5 in the paper, this one works \n",
    "\n",
    "\n",
    "std = 1e-3\n",
    "learning_rate = 0.5\n",
    "model = three_layer_nn('normal', std) # Bug with dropout, getting delta is going to be a little more subtle\n",
    "loss_fn = fro_loss()\n",
    "train_iter, loss, deltas, norms = train(model, loss_fn, X_torch, y_torch, learning_rate, eps)\n",
    "print(train_iter)\n",
    "delta_max, delta_min = max(deltas), min(deltas)\n",
    "print(deltas)"
   ]
  },
  {
   "cell_type": "code",
   "execution_count": 9,
   "metadata": {},
   "outputs": [
    {
     "data": {
      "text/plain": [
       "Text(0.5, 1.0, 'sigma = 0.001')"
      ]
     },
     "execution_count": 9,
     "metadata": {},
     "output_type": "execute_result"
    },
    {
     "data": {
      "image/png": "[encoded data removed]",
      "text/plain": [
       "<Figure size 432x288 with 1 Axes>"
      ]
     },
     "metadata": {
      "needs_background": "light"
     },
     "output_type": "display_data"
    }
   ],
   "source": [
    "import matplotlib.pyplot as plt\n",
    "\n",
    "iters = range(len(deltas))\n",
    "plt.plot(iters[0:600], norms[0:600])\n",
    "plt.xlabel('Iteration Number')\n",
    "plt.ylabel('Delta Value')\n",
    "# plt.ylabel('Min L Norm')\n",
    "plt.yscale('log')\n",
    "plt.title(\"sigma = {}\".format(std))"
   ]
  },
  {
   "cell_type": "code",
   "execution_count": null,
   "metadata": {},
   "outputs": [],
   "source": [
    "# Results of experiments of the above cell, I found a better learning rate than that in the paper\n",
    "# For a lot of the stds\n",
    "\n",
    "################################\n",
    "# Three Layer\n",
    "################################\n",
    "# Normal\n",
    "################################\n",
    "# std = 1e-4, lr = 0.5, num_iters = 3734\n",
    "# std = 1e-3, lr = 0.5, num_iters = 381\n",
    "# std = 1e-2, lr = 0.5, num_iters = 44\n",
    "# std = 1e-1, lr = 0.5, num_iters = 64\n",
    "# std = 5e-1, lr = 0.5, num_iters = 17\n",
    "#################################\n",
    "\n",
    "################################\n",
    "# Balanced\n",
    "################################\n",
    "# std = 1e-4, lr = 0.5, num_iters = 34\n",
    "# std = 1e-3, lr = 0.5, num_iters = 19, lr = 1e-2, num_iters = 682 \n",
    "# std = 1e-2, lr = 0.5, num_iters = 13\n",
    "# std = 1e-1, lr = 0.5, num_iters = 12\n",
    "# std = 1, lr = 1e-2, num_iters = 596\n",
    "#################################\n",
    "\n",
    "################################\n",
    "# Eight Layer\n",
    "################################\n",
    "# Normal\n",
    "################################\n",
    "# std = 1e-4, DNC (Did Not Converge)\n",
    "# std = 1e-3, DNC\n",
    "# std = 5e-2, lr = 1e-1, num_iters = 2450\n",
    "# std = 1e-1, lr = 1e-2, num_iters = 1265\n",
    "# std = 5e-1, DNC\n",
    "#################################\n",
    "\n",
    "################################\n",
    "# Balanced\n",
    "################################\n",
    "# std = 1e-4, lr = 1e-2, num_iters = 2349\n",
    "# std = 1e-3, lr = 1e-2, num_iters = 681\n",
    "# std = 1e-2, lr = 1e-2, num_iters = 504\n",
    "# std = 1e-1, lr = 1e-2, num_iters = 692\n",
    "# std = 1, lr = 5e-3, num_iters = 1161\n",
    "#################################"
   ]
  },
  {
   "cell_type": "code",
   "execution_count": null,
   "metadata": {},
   "outputs": [],
   "source": []
  }
 ],
 "metadata": {
  "kernelspec": {
   "display_name": "Python 3",
   "language": "python",
   "name": "python3"
  },
  "language_info": {
   "codemirror_mode": {
    "name": "ipython",
    "version": 3
   },
   "file_extension": ".py",
   "mimetype": "text/x-python",
   "name": "python",
   "nbconvert_exporter": "python",
   "pygments_lexer": "ipython3",
   "version": "3.7.0"
  }
 },
 "nbformat": 4,
 "nbformat_minor": 2
}
